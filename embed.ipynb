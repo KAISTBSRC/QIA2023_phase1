{
 "cells": [
  {
   "cell_type": "code",
   "execution_count": 1,
   "id": "037b62db-a8c4-4bd5-98fb-0b09772c1747",
   "metadata": {},
   "outputs": [],
   "source": [
    "import torch\n",
    "import torch.nn as nn\n",
    "from torch.utils.data import DataLoader, Dataset\n",
    "\n",
    "\n",
    "from transformers import *\n",
    "import os\n",
    "import sys\n",
    "from sklearn.model_selection import StratifiedKFold\n",
    "from sklearn.model_selection import KFold\n",
    "import numpy as np\n",
    "import re\n",
    "import pickle\n",
    "import time\n",
    "import pandas as pd\n",
    "from pathlib import Path\n",
    "import random\n",
    "from torch.utils.tensorboard import SummaryWriter"
   ]
  },
  {
   "cell_type": "markdown",
   "id": "ffd234c6-5e1d-4c26-8bb7-f17cf7478798",
   "metadata": {},
   "source": [
    "# 1. Embedding"
   ]
  },
  {
   "cell_type": "code",
   "execution_count": 2,
   "id": "7082881e-2055-47ac-8ac6-dfa2d3944395",
   "metadata": {},
   "outputs": [],
   "source": [
    "# load datasets\n",
    "df = pd.read_csv('./data/hackathon_train.csv', encoding='cp949', index_col=0)"
   ]
  },
  {
   "cell_type": "code",
   "execution_count": 3,
   "id": "3cdbe7f1-f09a-4213-8a1a-a2d1fd8b493a",
   "metadata": {},
   "outputs": [
    {
     "data": {
      "text/html": [
       "<div>\n",
       "<style scoped>\n",
       "    .dataframe tbody tr th:only-of-type {\n",
       "        vertical-align: middle;\n",
       "    }\n",
       "\n",
       "    .dataframe tbody tr th {\n",
       "        vertical-align: top;\n",
       "    }\n",
       "\n",
       "    .dataframe thead th {\n",
       "        text-align: right;\n",
       "    }\n",
       "</style>\n",
       "<table border=\"1\" class=\"dataframe\">\n",
       "  <thead>\n",
       "    <tr style=\"text-align: right;\">\n",
       "      <th></th>\n",
       "      <th>User_ID</th>\n",
       "      <th>Gender</th>\n",
       "      <th>Age</th>\n",
       "      <th>MBTI</th>\n",
       "      <th>Q_number</th>\n",
       "      <th>Answer</th>\n",
       "    </tr>\n",
       "    <tr>\n",
       "      <th>Data_ID</th>\n",
       "      <th></th>\n",
       "      <th></th>\n",
       "      <th></th>\n",
       "      <th></th>\n",
       "      <th></th>\n",
       "      <th></th>\n",
       "    </tr>\n",
       "  </thead>\n",
       "  <tbody>\n",
       "    <tr>\n",
       "      <th>14384</th>\n",
       "      <td>240</td>\n",
       "      <td>0</td>\n",
       "      <td>40</td>\n",
       "      <td>ISTJ</td>\n",
       "      <td>44</td>\n",
       "      <td>&lt;그렇다&gt; 저는 계획에 차질이 생기면 돌아가기 위해 노력을 합니다. 이유는 그 계획...</td>\n",
       "    </tr>\n",
       "    <tr>\n",
       "      <th>14385</th>\n",
       "      <td>240</td>\n",
       "      <td>0</td>\n",
       "      <td>40</td>\n",
       "      <td>ISTJ</td>\n",
       "      <td>45</td>\n",
       "      <td>&lt;그렇다&gt; 저는 예전의 실수를 후회할 때가 많습니다. 이유는 그만큼 나태하게 산 적...</td>\n",
       "    </tr>\n",
       "    <tr>\n",
       "      <th>14386</th>\n",
       "      <td>240</td>\n",
       "      <td>0</td>\n",
       "      <td>40</td>\n",
       "      <td>ISTJ</td>\n",
       "      <td>46</td>\n",
       "      <td>&lt;아니다&gt; 저는 인간의 존재와 삶의 이유에 대해 깊이 생각하지 않습니다. 이유는 이...</td>\n",
       "    </tr>\n",
       "    <tr>\n",
       "      <th>14387</th>\n",
       "      <td>240</td>\n",
       "      <td>0</td>\n",
       "      <td>40</td>\n",
       "      <td>ISTJ</td>\n",
       "      <td>47</td>\n",
       "      <td>&lt;아니다&gt; 저는 감정에 휘둘리는 편이 아닙니다. 이유는 감정을 감추고 밖으로 표현하...</td>\n",
       "    </tr>\n",
       "    <tr>\n",
       "      <th>14388</th>\n",
       "      <td>240</td>\n",
       "      <td>0</td>\n",
       "      <td>40</td>\n",
       "      <td>ISTJ</td>\n",
       "      <td>48</td>\n",
       "      <td>&lt;아니다&gt; 저는 상대방 잘못일 때 상대방의 체면을 살려주기 위해 노력하지 않습니다....</td>\n",
       "    </tr>\n",
       "  </tbody>\n",
       "</table>\n",
       "</div>"
      ],
      "text/plain": [
       "         User_ID  Gender  Age  MBTI  Q_number  \\\n",
       "Data_ID                                         \n",
       "14384        240       0   40  ISTJ        44   \n",
       "14385        240       0   40  ISTJ        45   \n",
       "14386        240       0   40  ISTJ        46   \n",
       "14387        240       0   40  ISTJ        47   \n",
       "14388        240       0   40  ISTJ        48   \n",
       "\n",
       "                                                    Answer  \n",
       "Data_ID                                                     \n",
       "14384    <그렇다> 저는 계획에 차질이 생기면 돌아가기 위해 노력을 합니다. 이유는 그 계획...  \n",
       "14385    <그렇다> 저는 예전의 실수를 후회할 때가 많습니다. 이유는 그만큼 나태하게 산 적...  \n",
       "14386    <아니다> 저는 인간의 존재와 삶의 이유에 대해 깊이 생각하지 않습니다. 이유는 이...  \n",
       "14387    <아니다> 저는 감정에 휘둘리는 편이 아닙니다. 이유는 감정을 감추고 밖으로 표현하...  \n",
       "14388    <아니다> 저는 상대방 잘못일 때 상대방의 체면을 살려주기 위해 노력하지 않습니다....  "
      ]
     },
     "execution_count": 3,
     "metadata": {},
     "output_type": "execute_result"
    }
   ],
   "source": [
    "df.tail()"
   ]
  },
  {
   "cell_type": "code",
   "execution_count": 4,
   "id": "2f2bb230-12e4-4f04-8e10-2c78cb912c9d",
   "metadata": {},
   "outputs": [],
   "source": [
    "# load pretrained model\n",
    "def get_model():\n",
    "    # * Model          | Tokenizer          | Pretrained weights shortcut\n",
    "    # MODEL=(DistilBertModel, DistilBertTokenizer, 'distilbert-base-uncased')\n",
    "    tokenizer = BertTokenizerFast.from_pretrained(\"kykim/bert-kor-base\")\n",
    "    model = BertModel.from_pretrained(\"kykim/bert-kor-base\")\n",
    "    n_hl = model.config.num_hidden_layers\n",
    "    embed_dim = model.config.embedding_size\n",
    "    return model, tokenizer, n_hl, embed_dim"
   ]
  },
  {
   "cell_type": "code",
   "execution_count": 5,
   "id": "e967cc0e-7418-464a-8917-29b59e07412c",
   "metadata": {},
   "outputs": [
    {
     "name": "stderr",
     "output_type": "stream",
     "text": [
      "Some weights of the model checkpoint at kykim/bert-kor-base were not used when initializing BertModel: ['cls.predictions.bias', 'cls.predictions.decoder.bias', 'cls.predictions.transform.LayerNorm.weight', 'cls.predictions.transform.dense.bias', 'cls.seq_relationship.bias', 'cls.seq_relationship.weight', 'cls.predictions.decoder.weight', 'cls.predictions.transform.LayerNorm.bias', 'cls.predictions.transform.dense.weight']\n",
      "- This IS expected if you are initializing BertModel from the checkpoint of a model trained on another task or with another architecture (e.g. initializing a BertForSequenceClassification model from a BertForPreTraining model).\n",
      "- This IS NOT expected if you are initializing BertModel from the checkpoint of a model that you expect to be exactly identical (initializing a BertForSequenceClassification model from a BertForSequenceClassification model).\n"
     ]
    }
   ],
   "source": [
    "model, tokenizer, n_hl, embed_dim = get_model()"
   ]
  },
  {
   "cell_type": "code",
   "execution_count": 6,
   "id": "9134f0ab-02ea-4cbb-b117-f2e02219e548",
   "metadata": {},
   "outputs": [],
   "source": [
    "# split train and test dataframe\n",
    "train_df_list = []\n",
    "test_df_list = []\n",
    "for idx in df['User_ID'].unique():\n",
    "    train_df_list.append(df[df['User_ID']==idx][0:40])\n",
    "    test_df_list.append(df[df['User_ID']==idx][40:])"
   ]
  },
  {
   "cell_type": "code",
   "execution_count": 7,
   "id": "ee7dc982-33e2-4b79-9359-adb6b7798f69",
   "metadata": {},
   "outputs": [],
   "source": [
    "train_df = pd.concat(train_df_list, ignore_index=True)\n",
    "test_df = pd.concat(test_df_list, ignore_index=True)"
   ]
  },
  {
   "cell_type": "code",
   "execution_count": 8,
   "id": "7bed86fe-d50b-49a3-aad6-89a28719d1ab",
   "metadata": {},
   "outputs": [],
   "source": [
    "train_tensor = tokenizer(train_df['Answer'].to_list(), max_length=model.config.max_position_embeddings, return_tensors='pt', padding=True)\n",
    "test_tensor = tokenizer(test_df['Answer'].to_list(), max_length=model.config.max_position_embeddings, return_tensors='pt', padding=True)"
   ]
  },
  {
   "cell_type": "code",
   "execution_count": 9,
   "id": "589ad9a4-8b31-4249-a9e1-05a49fbeeaa4",
   "metadata": {},
   "outputs": [],
   "source": [
    "class MyMapDataset(Dataset):\n",
    "    def __init__(self, data):\n",
    "        self.data = data\n",
    "        \n",
    "    def __len__(self):\n",
    "        return len(self.data['input_ids'])\n",
    "\n",
    "    def __getitem__(self, idx):\n",
    "        data = {k:v[idx] for k,v in self.data.items()}\n",
    "        return data"
   ]
  },
  {
   "cell_type": "code",
   "execution_count": 10,
   "id": "b90b819c-5fdb-4778-84d0-523d26732353",
   "metadata": {},
   "outputs": [],
   "source": [
    "train_ds = MyMapDataset(train_tensor)\n",
    "test_ds = MyMapDataset(test_tensor)\n",
    "\n",
    "train_dl = DataLoader(train_ds, batch_size=32, shuffle=False)\n",
    "test_dl = DataLoader(test_ds, batch_size=32, shuffle=False)"
   ]
  },
  {
   "cell_type": "code",
   "execution_count": 11,
   "id": "d55d08bd-4f8e-4f6a-87ff-c305309e3142",
   "metadata": {},
   "outputs": [],
   "source": [
    "def forward(model, dl, device=0):\n",
    "    pooled = []\n",
    "    hidden = []\n",
    "    model.cuda(device)\n",
    "    model.eval()\n",
    "    for data in dl:\n",
    "        data = {k:v.cuda(device) for k,v in data.items()}\n",
    "        with torch.no_grad():\n",
    "            output = model(**data, output_hidden_states=True)\n",
    "        p, h = output.pooler_output, output.hidden_states\n",
    "        pooled.append(p) # pooler output\n",
    "        hidden.append(h[-1][:,0,:]) # only [CLS] token embedding \n",
    "    return torch.cat(pooled), torch.cat(hidden)"
   ]
  },
  {
   "cell_type": "code",
   "execution_count": 12,
   "id": "361e9997-879e-4c49-a51f-e2ebbb9bdd3d",
   "metadata": {},
   "outputs": [],
   "source": [
    "train_result = forward(model, train_dl, device=0)\n",
    "test_result = forward(model, test_dl, device=1)"
   ]
  },
  {
   "cell_type": "code",
   "execution_count": 13,
   "id": "93bc8d80-78f9-4dc5-9e94-d5e4203bd200",
   "metadata": {},
   "outputs": [
    {
     "data": {
      "text/plain": [
       "torch.Size([9600, 768])"
      ]
     },
     "execution_count": 13,
     "metadata": {},
     "output_type": "execute_result"
    }
   ],
   "source": [
    "train_result[0].shape"
   ]
  },
  {
   "cell_type": "code",
   "execution_count": 14,
   "id": "febc6d40-e4eb-458d-b6db-f7c781a71178",
   "metadata": {},
   "outputs": [
    {
     "data": {
      "text/plain": [
       "torch.Size([9600, 768])"
      ]
     },
     "execution_count": 14,
     "metadata": {},
     "output_type": "execute_result"
    }
   ],
   "source": [
    "train_result[1].shape"
   ]
  },
  {
   "cell_type": "code",
   "execution_count": 15,
   "id": "259332ff-14a2-4110-af46-74e52e6e0f86",
   "metadata": {},
   "outputs": [
    {
     "data": {
      "text/html": [
       "<div>\n",
       "<style scoped>\n",
       "    .dataframe tbody tr th:only-of-type {\n",
       "        vertical-align: middle;\n",
       "    }\n",
       "\n",
       "    .dataframe tbody tr th {\n",
       "        vertical-align: top;\n",
       "    }\n",
       "\n",
       "    .dataframe thead th {\n",
       "        text-align: right;\n",
       "    }\n",
       "</style>\n",
       "<table border=\"1\" class=\"dataframe\">\n",
       "  <thead>\n",
       "    <tr style=\"text-align: right;\">\n",
       "      <th></th>\n",
       "      <th>User_ID</th>\n",
       "      <th>Gender</th>\n",
       "      <th>Age</th>\n",
       "      <th>MBTI</th>\n",
       "      <th>Q_number</th>\n",
       "      <th>Answer</th>\n",
       "    </tr>\n",
       "  </thead>\n",
       "  <tbody>\n",
       "    <tr>\n",
       "      <th>0</th>\n",
       "      <td>1</td>\n",
       "      <td>1</td>\n",
       "      <td>30</td>\n",
       "      <td>INFP</td>\n",
       "      <td>1</td>\n",
       "      <td>&lt;아니다&gt; 어릴 때 왕따 당한 경험이 있고 외부 활동을 좋아하지 않기 때문에 소수의...</td>\n",
       "    </tr>\n",
       "    <tr>\n",
       "      <th>1</th>\n",
       "      <td>1</td>\n",
       "      <td>1</td>\n",
       "      <td>30</td>\n",
       "      <td>INFP</td>\n",
       "      <td>2</td>\n",
       "      <td>&lt;중립&gt;  다양한 관심사를 탐구하진 않지만 대체로 자연과 역사에 관련된 것을 좋아하...</td>\n",
       "    </tr>\n",
       "    <tr>\n",
       "      <th>2</th>\n",
       "      <td>1</td>\n",
       "      <td>1</td>\n",
       "      <td>30</td>\n",
       "      <td>INFP</td>\n",
       "      <td>3</td>\n",
       "      <td>&lt;그렇다&gt; 감정 이입이 잘되어 코미디 영화에서 사람이 울고 있을 때도 울기 때문에 ...</td>\n",
       "    </tr>\n",
       "    <tr>\n",
       "      <th>3</th>\n",
       "      <td>1</td>\n",
       "      <td>1</td>\n",
       "      <td>30</td>\n",
       "      <td>INFP</td>\n",
       "      <td>4</td>\n",
       "      <td>&lt;중립&gt; 대비책을 세우긴 하는데 세우다가 마는 편입니다. 일의 변수가 생길 수 있고...</td>\n",
       "    </tr>\n",
       "    <tr>\n",
       "      <th>4</th>\n",
       "      <td>1</td>\n",
       "      <td>1</td>\n",
       "      <td>30</td>\n",
       "      <td>INFP</td>\n",
       "      <td>5</td>\n",
       "      <td>&lt;아니다&gt; 평정심을 유지 못 하는 편입니다. 머릿속은 백지화가 된 상태로 말도 제대...</td>\n",
       "    </tr>\n",
       "  </tbody>\n",
       "</table>\n",
       "</div>"
      ],
      "text/plain": [
       "   User_ID  Gender  Age  MBTI  Q_number  \\\n",
       "0        1       1   30  INFP         1   \n",
       "1        1       1   30  INFP         2   \n",
       "2        1       1   30  INFP         3   \n",
       "3        1       1   30  INFP         4   \n",
       "4        1       1   30  INFP         5   \n",
       "\n",
       "                                              Answer  \n",
       "0  <아니다> 어릴 때 왕따 당한 경험이 있고 외부 활동을 좋아하지 않기 때문에 소수의...  \n",
       "1  <중립>  다양한 관심사를 탐구하진 않지만 대체로 자연과 역사에 관련된 것을 좋아하...  \n",
       "2  <그렇다> 감정 이입이 잘되어 코미디 영화에서 사람이 울고 있을 때도 울기 때문에 ...  \n",
       "3  <중립> 대비책을 세우긴 하는데 세우다가 마는 편입니다. 일의 변수가 생길 수 있고...  \n",
       "4  <아니다> 평정심을 유지 못 하는 편입니다. 머릿속은 백지화가 된 상태로 말도 제대...  "
      ]
     },
     "execution_count": 15,
     "metadata": {},
     "output_type": "execute_result"
    }
   ],
   "source": [
    "train_df.head()"
   ]
  },
  {
   "cell_type": "code",
   "execution_count": 16,
   "id": "24dda5b7-f63d-4526-9083-1851c2acba83",
   "metadata": {},
   "outputs": [],
   "source": [
    "torch.save(train_result, 'train_embed.pt')\n",
    "torch.save(test_result, 'test_embed.pt')"
   ]
  }
 ],
 "metadata": {
  "kernelspec": {
   "display_name": "Python 3",
   "language": "python",
   "name": "python3"
  },
  "language_info": {
   "codemirror_mode": {
    "name": "ipython",
    "version": 3
   },
   "file_extension": ".py",
   "mimetype": "text/x-python",
   "name": "python",
   "nbconvert_exporter": "python",
   "pygments_lexer": "ipython3",
   "version": "3.8.8"
  }
 },
 "nbformat": 4,
 "nbformat_minor": 5
}
