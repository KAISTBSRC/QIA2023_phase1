{
 "cells": [
  {
   "cell_type": "code",
   "execution_count": 2,
   "id": "b3993b52-7522-4b74-800a-2f7a4bef8ce2",
   "metadata": {},
   "outputs": [],
   "source": [
    "import torch\n",
    "import torch.nn as nn\n",
    "from torch.utils.data import DataLoader, Dataset\n",
    "\n",
    "\n",
    "from transformers import *\n",
    "import os\n",
    "import sys\n",
    "from sklearn.model_selection import StratifiedKFold\n",
    "from sklearn.model_selection import KFold\n",
    "import numpy as np\n",
    "import re\n",
    "import pickle\n",
    "import time\n",
    "import pandas as pd\n",
    "from pathlib import Path\n",
    "import random\n",
    "from torch.utils.tensorboard import SummaryWriter"
   ]
  },
  {
   "cell_type": "markdown",
   "id": "f3af1c42-9f8c-4bed-a6e9-47300f8f223e",
   "metadata": {},
   "source": [
    "# 1. Test data Embedding "
   ]
  },
  {
   "cell_type": "code",
   "execution_count": 5,
   "id": "93bd13b4-bc94-4032-a76e-c0bacbd7b5cc",
   "metadata": {},
   "outputs": [],
   "source": [
    "# load datasets\n",
    "df = pd.read_csv('./data/hackathon_test_for_user.csv', encoding='cp949')"
   ]
  },
  {
   "cell_type": "code",
   "execution_count": 6,
   "id": "02f07ee5-b56c-4259-8b5d-bb1ce44c5f6f",
   "metadata": {},
   "outputs": [
    {
     "data": {
      "text/html": [
       "<div>\n",
       "<style scoped>\n",
       "    .dataframe tbody tr th:only-of-type {\n",
       "        vertical-align: middle;\n",
       "    }\n",
       "\n",
       "    .dataframe tbody tr th {\n",
       "        vertical-align: top;\n",
       "    }\n",
       "\n",
       "    .dataframe thead th {\n",
       "        text-align: right;\n",
       "    }\n",
       "</style>\n",
       "<table border=\"1\" class=\"dataframe\">\n",
       "  <thead>\n",
       "    <tr style=\"text-align: right;\">\n",
       "      <th></th>\n",
       "      <th>Gender</th>\n",
       "      <th>Age</th>\n",
       "      <th>Q_number</th>\n",
       "      <th>Answer</th>\n",
       "    </tr>\n",
       "  </thead>\n",
       "  <tbody>\n",
       "    <tr>\n",
       "      <th>0</th>\n",
       "      <td>0</td>\n",
       "      <td>30</td>\n",
       "      <td>59</td>\n",
       "      <td>&lt;아니다&gt; 저는 모든 일은 정해진 시간을 지켜서 해야 된다고 생각되어서 마감 기한을...</td>\n",
       "    </tr>\n",
       "    <tr>\n",
       "      <th>1</th>\n",
       "      <td>1</td>\n",
       "      <td>40</td>\n",
       "      <td>53</td>\n",
       "      <td>&lt;중립&gt; 저는 조용하고 사적인 장소도 좋아하고 사람들로 붐비고 떠들썩한 장소도 좋아...</td>\n",
       "    </tr>\n",
       "    <tr>\n",
       "      <th>2</th>\n",
       "      <td>1</td>\n",
       "      <td>40</td>\n",
       "      <td>56</td>\n",
       "      <td>&lt;그렇다&gt; 저는 규칙을 잘 지키고 매뉴얼 대로 일하는 사람입니다. 그래서 데이터 라...</td>\n",
       "    </tr>\n",
       "    <tr>\n",
       "      <th>3</th>\n",
       "      <td>1</td>\n",
       "      <td>40</td>\n",
       "      <td>60</td>\n",
       "      <td>&lt;그렇다&gt; 저는 항상 긍정적인 사고방식을 가지고 살려고 노력하고 있습니다. 이유는 ...</td>\n",
       "    </tr>\n",
       "    <tr>\n",
       "      <th>4</th>\n",
       "      <td>1</td>\n",
       "      <td>30</td>\n",
       "      <td>51</td>\n",
       "      <td>&lt;중립&gt; 혼자서 일하는 것도 좋고 함께 일하는 것도 모두 좋은데 같이 의논하는 일도...</td>\n",
       "    </tr>\n",
       "    <tr>\n",
       "      <th>...</th>\n",
       "      <td>...</td>\n",
       "      <td>...</td>\n",
       "      <td>...</td>\n",
       "      <td>...</td>\n",
       "    </tr>\n",
       "    <tr>\n",
       "      <th>2875</th>\n",
       "      <td>1</td>\n",
       "      <td>20</td>\n",
       "      <td>59</td>\n",
       "      <td>&lt;아니다&gt; 마감 기한은 웬만해서는 지키려고 하는 편이에요. 거의 대부분 지각하지 않아요.</td>\n",
       "    </tr>\n",
       "    <tr>\n",
       "      <th>2876</th>\n",
       "      <td>0</td>\n",
       "      <td>20</td>\n",
       "      <td>54</td>\n",
       "      <td>&lt;중립&gt; 저는 상대방의 감정을 바로는 아니지만 어느 정도 알아차릴 수는 있습니다. ...</td>\n",
       "    </tr>\n",
       "    <tr>\n",
       "      <th>2877</th>\n",
       "      <td>1</td>\n",
       "      <td>30</td>\n",
       "      <td>50</td>\n",
       "      <td>&lt;그렇다&gt; 상대방이 높게 평가할 수 롤 작은 실수도 크게 보일 수 있기 때문이에요....</td>\n",
       "    </tr>\n",
       "    <tr>\n",
       "      <th>2878</th>\n",
       "      <td>1</td>\n",
       "      <td>30</td>\n",
       "      <td>50</td>\n",
       "      <td>&lt;아니다&gt; 상대방이 나를 높게 평가하면 더 잘하면 된다고 생각하기 때문에 상대방이 ...</td>\n",
       "    </tr>\n",
       "    <tr>\n",
       "      <th>2879</th>\n",
       "      <td>0</td>\n",
       "      <td>40</td>\n",
       "      <td>55</td>\n",
       "      <td>&lt;아니다&gt; 압도당한 적이 없다. 나도 나고, 너는 너라는 사고방식이기 때문에 압도당...</td>\n",
       "    </tr>\n",
       "  </tbody>\n",
       "</table>\n",
       "<p>2880 rows × 4 columns</p>\n",
       "</div>"
      ],
      "text/plain": [
       "      Gender  Age  Q_number                                             Answer\n",
       "0          0   30        59  <아니다> 저는 모든 일은 정해진 시간을 지켜서 해야 된다고 생각되어서 마감 기한을...\n",
       "1          1   40        53  <중립> 저는 조용하고 사적인 장소도 좋아하고 사람들로 붐비고 떠들썩한 장소도 좋아...\n",
       "2          1   40        56  <그렇다> 저는 규칙을 잘 지키고 매뉴얼 대로 일하는 사람입니다. 그래서 데이터 라...\n",
       "3          1   40        60  <그렇다> 저는 항상 긍정적인 사고방식을 가지고 살려고 노력하고 있습니다. 이유는 ...\n",
       "4          1   30        51  <중립> 혼자서 일하는 것도 좋고 함께 일하는 것도 모두 좋은데 같이 의논하는 일도...\n",
       "...      ...  ...       ...                                                ...\n",
       "2875       1   20        59  <아니다> 마감 기한은 웬만해서는 지키려고 하는 편이에요. 거의 대부분 지각하지 않아요.\n",
       "2876       0   20        54  <중립> 저는 상대방의 감정을 바로는 아니지만 어느 정도 알아차릴 수는 있습니다. ...\n",
       "2877       1   30        50  <그렇다> 상대방이 높게 평가할 수 롤 작은 실수도 크게 보일 수 있기 때문이에요....\n",
       "2878       1   30        50  <아니다> 상대방이 나를 높게 평가하면 더 잘하면 된다고 생각하기 때문에 상대방이 ...\n",
       "2879       0   40        55  <아니다> 압도당한 적이 없다. 나도 나고, 너는 너라는 사고방식이기 때문에 압도당...\n",
       "\n",
       "[2880 rows x 4 columns]"
      ]
     },
     "execution_count": 6,
     "metadata": {},
     "output_type": "execute_result"
    }
   ],
   "source": [
    "df"
   ]
  },
  {
   "cell_type": "code",
   "execution_count": 7,
   "id": "a5514041-8362-4293-a262-4f1cf6469495",
   "metadata": {},
   "outputs": [],
   "source": [
    "# load pretrained model\n",
    "def get_model():\n",
    "    # * Model          | Tokenizer          | Pretrained weights shortcut\n",
    "    # MODEL=(DistilBertModel, DistilBertTokenizer, 'distilbert-base-uncased')\n",
    "    tokenizer = BertTokenizerFast.from_pretrained(\"kykim/bert-kor-base\")\n",
    "    model = BertModel.from_pretrained(\"kykim/bert-kor-base\")\n",
    "    n_hl = model.config.num_hidden_layers\n",
    "    embed_dim = model.config.embedding_size\n",
    "    return model, tokenizer, n_hl, embed_dim"
   ]
  },
  {
   "cell_type": "code",
   "execution_count": 12,
   "id": "85227418-0a12-4aef-b159-0ee3b20b002b",
   "metadata": {},
   "outputs": [
    {
     "name": "stderr",
     "output_type": "stream",
     "text": [
      "Some weights of the model checkpoint at kykim/bert-kor-base were not used when initializing BertModel: ['cls.predictions.bias', 'cls.seq_relationship.weight', 'cls.predictions.transform.dense.weight', 'cls.predictions.transform.LayerNorm.bias', 'cls.predictions.decoder.weight', 'cls.predictions.transform.LayerNorm.weight', 'cls.predictions.decoder.bias', 'cls.predictions.transform.dense.bias', 'cls.seq_relationship.bias']\n",
      "- This IS expected if you are initializing BertModel from the checkpoint of a model trained on another task or with another architecture (e.g. initializing a BertForSequenceClassification model from a BertForPreTraining model).\n",
      "- This IS NOT expected if you are initializing BertModel from the checkpoint of a model that you expect to be exactly identical (initializing a BertForSequenceClassification model from a BertForSequenceClassification model).\n"
     ]
    }
   ],
   "source": [
    "model, tokenizer, n_hl, embed_dim = get_model()"
   ]
  },
  {
   "cell_type": "code",
   "execution_count": 8,
   "id": "1f2880f3-276c-43fe-8a89-ce1e385007a8",
   "metadata": {},
   "outputs": [],
   "source": [
    "class MyMapDataset(Dataset):\n",
    "    def __init__(self, data):\n",
    "        self.data = data\n",
    "        \n",
    "    def __len__(self):\n",
    "        return len(self.data['input_ids'])\n",
    "\n",
    "    def __getitem__(self, idx):\n",
    "        data = {k:v[idx] for k,v in self.data.items()}\n",
    "        return data"
   ]
  },
  {
   "cell_type": "code",
   "execution_count": 14,
   "id": "e9a40604-1a9b-481e-9416-0f21438a3d64",
   "metadata": {},
   "outputs": [],
   "source": [
    "tensor = tokenizer(df['Answer'].to_list(), max_length=model.config.max_position_embeddings, return_tensors='pt', padding=True)\n",
    "ds = MyMapDataset(tensor)\n",
    "dl = DataLoader(ds, batch_size=32, shuffle=False)"
   ]
  },
  {
   "cell_type": "code",
   "execution_count": 15,
   "id": "b8036030-776e-40a4-a3cf-88fac9261d60",
   "metadata": {},
   "outputs": [],
   "source": [
    "def forward(model, dl, device=0):\n",
    "    pooled = []\n",
    "    hidden = []\n",
    "    model.cuda(device)\n",
    "    model.eval()\n",
    "    for data in dl:\n",
    "        data = {k:v.cuda(device) for k,v in data.items()}\n",
    "        with torch.no_grad():\n",
    "            output = model(**data, output_hidden_states=True)\n",
    "        p, h = output.pooler_output, output.hidden_states\n",
    "        pooled.append(p) # pooler output\n",
    "        hidden.append(h[-1][:,0,:]) # only [CLS] token embedding \n",
    "    return torch.cat(pooled), torch.cat(hidden)"
   ]
  },
  {
   "cell_type": "code",
   "execution_count": 17,
   "id": "9fe5af83-9a56-40ff-80af-e861e53ab88e",
   "metadata": {},
   "outputs": [],
   "source": [
    "result = forward(model, dl, device=6)"
   ]
  },
  {
   "cell_type": "code",
   "execution_count": 20,
   "id": "1a590e03-5aa7-47e3-8a11-57534cc7ae5e",
   "metadata": {},
   "outputs": [
    {
     "data": {
      "text/plain": [
       "(torch.Size([2880, 768]), torch.Size([2880, 768]))"
      ]
     },
     "execution_count": 20,
     "metadata": {},
     "output_type": "execute_result"
    }
   ],
   "source": [
    "result[0].shape, result[1].shape"
   ]
  },
  {
   "cell_type": "code",
   "execution_count": null,
   "id": "85ec2d55-0dcf-47d7-9f19-727365f2cb7d",
   "metadata": {},
   "outputs": [],
   "source": []
  },
  {
   "cell_type": "code",
   "execution_count": null,
   "id": "e1ed8543-7914-46df-bfa3-4ab2711ad13a",
   "metadata": {},
   "outputs": [],
   "source": [
    "# forward datasets\n",
    "# class MyDataset(Dataset):\n",
    "#     def __init__(self, data):\n",
    "#         self.data = data\n",
    "#     def __len__(self):\n",
    "#         return len(self.data)\n",
    "\n",
    "#     def __getitem__(self, idx):\n",
    "#         return self.data[idx]\n",
    "    \n",
    "# ds = MyDataset(result[0])\n",
    "# dl = DataLoader(ds, shuffle=False, batch_size=)"
   ]
  },
  {
   "cell_type": "markdown",
   "id": "c15b060b-62e3-4109-8049-4147d102c1da",
   "metadata": {},
   "source": [
    "# Load each model"
   ]
  },
  {
   "cell_type": "code",
   "execution_count": 21,
   "id": "5443e262-4392-4db2-aa3c-adc26dc4b7d9",
   "metadata": {},
   "outputs": [],
   "source": [
    "ie_path = './ckpt/IE/epoch_81.pt'\n",
    "sn_path = './ckpt/SN/epoch_30.pt'\n",
    "tf_path = './ckpt/TF/epoch_20.pt'\n",
    "jp_path = './ckpt/jp/epoch_25.pt'\n",
    "path = [ie_path, sn_path, tf_path, jp_path]"
   ]
  },
  {
   "cell_type": "code",
   "execution_count": 23,
   "id": "b729a66e-c321-4d88-a804-b08d618c9370",
   "metadata": {},
   "outputs": [],
   "source": [
    "model = torch.load(ie_path, map_location='cpu')"
   ]
  },
  {
   "cell_type": "code",
   "execution_count": 27,
   "id": "e4876d70-74a7-4039-9555-bc131be8b819",
   "metadata": {},
   "outputs": [],
   "source": [
    "def main(path):\n",
    "    model = torch.load(ie_path, map_location='cpu')\n",
    "    model.eval()\n",
    "    model = model.cuda(6)\n",
    "    with torch.no_grad():\n",
    "        output = model(result[0].cuda(6))\n",
    "        output = output.argmax(axis=1)\n",
    "    \n",
    "    return output"
   ]
  },
  {
   "cell_type": "code",
   "execution_count": 31,
   "id": "d7725f9a-d4a6-4909-87bd-dea559d6f81d",
   "metadata": {},
   "outputs": [],
   "source": [
    "ie = main(ie_path)\n",
    "sn = main(sn_path)\n",
    "tf = main(tf_path)\n",
    "jp = main(jp_path)"
   ]
  },
  {
   "cell_type": "code",
   "execution_count": 35,
   "id": "0749af8d-5eb3-42e9-8ff3-09c5bf3485a8",
   "metadata": {},
   "outputs": [],
   "source": [
    "test = pd.DataFrame({'I/E': ie.tolist(), \n",
    "                    'S/N': sn.tolist(), \n",
    "                    'T/F': tf.tolist(), \n",
    "                    'J/P': jp.tolist()})"
   ]
  },
  {
   "cell_type": "code",
   "execution_count": 36,
   "id": "6a6317c7-6702-4225-b8b2-f99813d4f3e7",
   "metadata": {},
   "outputs": [
    {
     "data": {
      "text/html": [
       "<div>\n",
       "<style scoped>\n",
       "    .dataframe tbody tr th:only-of-type {\n",
       "        vertical-align: middle;\n",
       "    }\n",
       "\n",
       "    .dataframe tbody tr th {\n",
       "        vertical-align: top;\n",
       "    }\n",
       "\n",
       "    .dataframe thead th {\n",
       "        text-align: right;\n",
       "    }\n",
       "</style>\n",
       "<table border=\"1\" class=\"dataframe\">\n",
       "  <thead>\n",
       "    <tr style=\"text-align: right;\">\n",
       "      <th></th>\n",
       "      <th>I/E</th>\n",
       "      <th>S/N</th>\n",
       "      <th>T/F</th>\n",
       "      <th>J/P</th>\n",
       "    </tr>\n",
       "  </thead>\n",
       "  <tbody>\n",
       "    <tr>\n",
       "      <th>0</th>\n",
       "      <td>0</td>\n",
       "      <td>0</td>\n",
       "      <td>0</td>\n",
       "      <td>0</td>\n",
       "    </tr>\n",
       "    <tr>\n",
       "      <th>1</th>\n",
       "      <td>0</td>\n",
       "      <td>0</td>\n",
       "      <td>0</td>\n",
       "      <td>0</td>\n",
       "    </tr>\n",
       "    <tr>\n",
       "      <th>2</th>\n",
       "      <td>1</td>\n",
       "      <td>1</td>\n",
       "      <td>1</td>\n",
       "      <td>1</td>\n",
       "    </tr>\n",
       "    <tr>\n",
       "      <th>3</th>\n",
       "      <td>1</td>\n",
       "      <td>1</td>\n",
       "      <td>1</td>\n",
       "      <td>1</td>\n",
       "    </tr>\n",
       "    <tr>\n",
       "      <th>4</th>\n",
       "      <td>0</td>\n",
       "      <td>0</td>\n",
       "      <td>0</td>\n",
       "      <td>0</td>\n",
       "    </tr>\n",
       "  </tbody>\n",
       "</table>\n",
       "</div>"
      ],
      "text/plain": [
       "   I/E  S/N  T/F  J/P\n",
       "0    0    0    0    0\n",
       "1    0    0    0    0\n",
       "2    1    1    1    1\n",
       "3    1    1    1    1\n",
       "4    0    0    0    0"
      ]
     },
     "execution_count": 36,
     "metadata": {},
     "output_type": "execute_result"
    }
   ],
   "source": [
    "test.head()"
   ]
  },
  {
   "cell_type": "code",
   "execution_count": 37,
   "id": "d4e7db6f-c87c-4ee0-9662-67244408df8c",
   "metadata": {},
   "outputs": [],
   "source": [
    "test.to_csv('basemodel_result.csv')"
   ]
  }
 ],
 "metadata": {
  "kernelspec": {
   "display_name": "Python 3",
   "language": "python",
   "name": "python3"
  },
  "language_info": {
   "codemirror_mode": {
    "name": "ipython",
    "version": 3
   },
   "file_extension": ".py",
   "mimetype": "text/x-python",
   "name": "python",
   "nbconvert_exporter": "python",
   "pygments_lexer": "ipython3",
   "version": "3.8.8"
  }
 },
 "nbformat": 4,
 "nbformat_minor": 5
}
